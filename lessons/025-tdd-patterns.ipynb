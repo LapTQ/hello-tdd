{
 "cells": [
  {
   "cell_type": "markdown",
   "metadata": {},
   "source": [
    "## Isolated Tests\n",
    "\n",
    "> How should the running of tests affect one another? \n",
    ">\n",
    "> ***Not at all***."
   ]
  },
  {
   "cell_type": "markdown",
   "metadata": {},
   "source": [
    "If I had one test broken, I wanted one problem. If I had two tests broken, I wanted two\n",
    "problems. "
   ]
  },
  {
   "cell_type": "markdown",
   "metadata": {},
   "source": [
    "> One convenient implication of isolated tests: the tests are ***order independent***. \n",
    "\n",
    "If I want to grab a subset of tests and run them, then I can do so without worrying that a test will break now because a prerequisite test didn't run first."
   ]
  },
  {
   "cell_type": "markdown",
   "metadata": {},
   "source": [
    "## Test List"
   ]
  },
  {
   "cell_type": "markdown",
   "metadata": {},
   "source": [
    "> Note down on a paper every test you want to run as it comes to mind.\n",
    "\n",
    "So as not to forget any test."
   ]
  },
  {
   "cell_type": "markdown",
   "metadata": {},
   "source": [
    "> But don't implement them all at once, en masse.\n",
    "\n",
    "For example, you've implemented 10 tests. But then the first test is broken and you discover that the arguments need to be in the opposite order. You have to change the arguments in 10 tests."
   ]
  },
  {
   "cell_type": "markdown",
   "metadata": {},
   "source": [
    "## Assert first"
   ]
  },
  {
   "cell_type": "markdown",
   "metadata": {},
   "source": [
    "> When should you write the asserts? Try writing them first."
   ]
  },
  {
   "cell_type": "markdown",
   "metadata": {},
   "source": [
    "```python\n",
    "def testCompleteTransaction():\n",
    "    # ...\n",
    "    assert reader.isClose()\n",
    "    assert reply.contents() == 'abc'\n",
    "```\n",
    "\n",
    "Where does the reply come from? \n",
    "\n",
    "```python\n",
    "def testCompleteTransaction():\n",
    "    # ...\n",
    "    reply: Buffer = reader.contents()\n",
    "    assert reader.isClose()\n",
    "    assert reply.contents() == 'abc'\n",
    "```"
   ]
  }
 ],
 "metadata": {
  "kernelspec": {
   "display_name": ".venv",
   "language": "python",
   "name": "python3"
  },
  "language_info": {
   "codemirror_mode": {
    "name": "ipython",
    "version": 3
   },
   "file_extension": ".py",
   "mimetype": "text/x-python",
   "name": "python",
   "nbconvert_exporter": "python",
   "pygments_lexer": "ipython3",
   "version": "3.10.12"
  }
 },
 "nbformat": 4,
 "nbformat_minor": 2
}
