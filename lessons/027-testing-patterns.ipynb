{
 "cells": [
  {
   "cell_type": "markdown",
   "metadata": {},
   "source": [
    "## Child Test"
   ]
  },
  {
   "cell_type": "markdown",
   "metadata": {},
   "source": [
    "How do you get a test case running that turns out to be too big? \n",
    "\n",
    "> Write a smaller\n",
    "test case that represents the broken part of the bigger test case."
   ]
  },
  {
   "cell_type": "markdown",
   "metadata": {},
   "source": [
    "## Mock Object"
   ]
  },
  {
   "cell_type": "markdown",
   "metadata": {},
   "source": [
    "How do you test an object that relies on another complicated resource?\n",
    "\n",
    "> Create a fake version of the complicated resource."
   ]
  },
  {
   "cell_type": "markdown",
   "metadata": {},
   "source": [
    "```python\n",
    "def testOrderLookup():\n",
    "    db = MockDatabase()\n",
    "    # Add some test data to the database\n",
    "```"
   ]
  },
  {
   "cell_type": "markdown",
   "metadata": {},
   "source": [
    "## Self Shunt"
   ]
  },
  {
   "cell_type": "markdown",
   "metadata": {},
   "source": [
    "Let’s suppose that we are writing a point of sale system. When a sales clerk swipes an item past a barcode **scanner**, its name and price come up on \n",
    "an LCD **display**."
   ]
  },
  {
   "cell_type": "markdown",
   "metadata": {},
   "source": [
    "We may end up writing test like this:\n",
    "\n",
    "```python\n",
    "def testScanner():\n",
    "    scanner = Scanner()\n",
    "    display = MockDisplay()\n",
    "    \n",
    "    item = scanner.scan()\n",
    "    display.display(item)\n",
    "```"
   ]
  },
  {
   "cell_type": "markdown",
   "metadata": {},
   "source": [
    "But, what do we assert? Do we add a method to the display to ask it whether it has \n",
    "displayed anything?"
   ]
  },
  {
   "cell_type": "markdown",
   "metadata": {},
   "source": [
    "Worse, the test case is acting as an intermediary between the scanner and the \n",
    "display."
   ]
  },
  {
   "cell_type": "markdown",
   "metadata": {},
   "source": [
    "Let's try a better version:\n",
    "\n",
    "> [!NOTE]\n",
    "> If your test acts as a mediator between two objects,\n",
    "pick one object and let it talk to the other.\n",
    "\n",
    "```python\n",
    "def testScanner():\n",
    "    display = MockDisplay()\n",
    "    scanner = Scanner(display)\n",
    "    \n",
    "    item = Item('Cornflakes')\n",
    "    scanner.scan(item)  # call the display.displayItem method\n",
    "\n",
    "    assert item == display.lastItem\n",
    "\n",
    "\n",
    "class MockDisplay:\n",
    "\n",
    "    lastItem = None\n",
    "\n",
    "    def displayItem(self, item):\n",
    "        self.lastItem = item\n",
    "```"
   ]
  },
  {
   "cell_type": "markdown",
   "metadata": {},
   "source": [
    "Pros: the test is simple and easy to read.\n",
    "\n",
    "Cons: The MockDisplay is untested code. I have seen a tendency for behavior to slip into, which is disastorous. It can cause a bug in your tests that take too long to track down."
   ]
  },
  {
   "cell_type": "markdown",
   "metadata": {},
   "source": [
    "> [!NOTE]\n",
    "> Let's say that you are a test case. One of the things that you can do is pass \n",
    "yourself to the objects you are testing."
   ]
  },
  {
   "cell_type": "markdown",
   "metadata": {},
   "source": [
    "```python\n",
    "class InterfaceDisplay(ABC):\n",
    "\n",
    "    @abstractmethod\n",
    "    def displayItem(self, item):\n",
    "        pass\n",
    "\n",
    "\n",
    "class testScanner(InterfaceDisplay):\n",
    "\n",
    "    lastItem = None\n",
    "\n",
    "    def displayItem(self, item):\n",
    "        self.lastItem = item\n",
    "\n",
    "    def testScanner(self):\n",
    "        scanner = Scanner(self) # pass the test case to the scanner\n",
    "        item = Item('Cornflakes')\n",
    "        scanner.scan(item)  # call the \"self\" displayItem method\n",
    "\n",
    "        assert item == self.lastItem\n",
    "```"
   ]
  },
  {
   "cell_type": "markdown",
   "metadata": {},
   "source": [
    "> [!NOTE]\n",
    "> How do you test that one object communicates correctly with another? Have\n",
    "the object under test communicate with the test case instead of with the object\n",
    "it expects."
   ]
  },
  {
   "cell_type": "markdown",
   "metadata": {},
   "source": [
    "The implementation on the interface in the test class will give you a good idea on what the implementation of the concrete class should look like when you get there."
   ]
  },
  {
   "cell_type": "markdown",
   "metadata": {},
   "source": [
    "## Log String"
   ]
  },
  {
   "cell_type": "markdown",
   "metadata": {},
   "source": [
    "A common problem is that the test method may not return values. In this case, you want to test if the methods were called and called in the correct order."
   ]
  },
  {
   "cell_type": "markdown",
   "metadata": {},
   "source": [
    "When you call a method, you create a log entry to prove that the method was called."
   ]
  },
  {
   "cell_type": "markdown",
   "metadata": {},
   "source": [
    "```python\n",
    "def testFoo():\n",
    "    net = Net()\n",
    "    img = np.random.rand(256, 256, 3)\n",
    "\n",
    "    net.predict(img)\n",
    "\n",
    "    assert net.called_methods == ['predict', 'preprocess']  # expect that the preprocess must be called\n",
    "    assert net.messages == ['shape=(256, 256, 3)', 'shape=(224, 224, 3)']\n",
    "\n",
    "\n",
    "class Net:\n",
    "\n",
    "    messages = []\n",
    "    called_methods = []\n",
    "    model = ResNet50()\n",
    "\n",
    "    def predict(self, img):\n",
    "        self.called_methods.append('predict')\n",
    "        self.messages.append('shape={}'.format(img.shape))\n",
    "        \n",
    "        img = self.preprocess(img)\n",
    "\n",
    "        return self.model(img)\n",
    "\n",
    "\n",
    "    def preprocess(self, img):\n",
    "        self.called_methods.append('preprocess')\n",
    "        self.messages.append('shape={}'.format(img.shape))\n",
    "\n",
    "        img = cv2.resize(img, (224, 224))\n",
    "\n",
    "        return img\n",
    "```"
   ]
  },
  {
   "cell_type": "markdown",
   "metadata": {},
   "source": [
    "Log String works well with Self Shunt. The test case implements the methods in the shunted interface by adding to the log and then returning reasonable\n",
    "values."
   ]
  },
  {
   "cell_type": "markdown",
   "metadata": {},
   "source": [
    "## Crash Test Dummy"
   ]
  },
  {
   "cell_type": "markdown",
   "metadata": {},
   "source": [
    "Let's say you want to test what happends to our application when the file system is full. \n",
    "\n",
    "You could create a very big file and fill the system. Doing this is a bad idea.\n",
    "\n",
    "We'll simulate it."
   ]
  },
  {
   "cell_type": "code",
   "execution_count": 9,
   "metadata": {},
   "outputs": [],
   "source": [
    "def open_full_file(path):\n",
    "\n",
    "    class FullFile:\n",
    "        \n",
    "        def read(self):\n",
    "            raise IOError()\n",
    "        \n",
    "    return FullFile()\n",
    "\n",
    "\n",
    "def testFileSystemError():\n",
    "    file = open_full_file('foo.txt')\n",
    "    try:\n",
    "        file.read()\n",
    "        assert False\n",
    "    except IOError:\n",
    "        assert True\n",
    "\n",
    "    \n",
    "testFileSystemError()"
   ]
  },
  {
   "cell_type": "markdown",
   "metadata": {},
   "source": [
    "## References\n",
    "\n",
    "1. https://citeseerx.ist.psu.edu/document?repid=rep1&type=pdf&doi=3e1876a233963013d84bcba6a66289d623c63d57\n",
    "\n",
    "2. https://8thlight.com/insights/self-shunt"
   ]
  }
 ],
 "metadata": {
  "kernelspec": {
   "display_name": ".venv",
   "language": "python",
   "name": "python3"
  },
  "language_info": {
   "codemirror_mode": {
    "name": "ipython",
    "version": 3
   },
   "file_extension": ".py",
   "mimetype": "text/x-python",
   "name": "python",
   "nbconvert_exporter": "python",
   "pygments_lexer": "ipython3",
   "version": "3.10.12"
  }
 },
 "nbformat": 4,
 "nbformat_minor": 2
}
