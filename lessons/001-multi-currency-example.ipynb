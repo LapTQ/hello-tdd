{
 "cells": [
  {
   "cell_type": "markdown",
   "metadata": {},
   "source": [
    "Assume that we have a report like this:\n",
    "\n",
    "Instrument | Shares | Price | Total\n",
    "---|---|---|---\n",
    "IMB | 1000 | 25 USD | 25000 USD\n",
    "GE | 400 | 150 CHF | 60000 CHF\n",
    "| | | Total | 65000 USD\n",
    "\n",
    "with a exchange rate:\n",
    "\n",
    "From | To | Rate\n",
    "---|---|---\n",
    "CHF | USD | 1.5"
   ]
  },
  {
   "cell_type": "markdown",
   "metadata": {},
   "source": [
    "> What is the to-do list of tests we need to do?\n",
    "\n",
    "1. \\$5 + 10 CHF = \\$10 if rate is 2:1.\n",
    "2. \\$5 * 2 = \\$10.\n",
    "\n",
    "> Which test do we need first?\n",
    "\n",
    "The second test is simpler. We'll start with it."
   ]
  },
  {
   "cell_type": "code",
   "execution_count": 1,
   "metadata": {},
   "outputs": [],
   "source": [
    "def testMultiplication():\n",
    "    five = Dollar(5)\n",
    "    five.times(2)\n",
    "    assert 10 == five.amount"
   ]
  },
  {
   "cell_type": "markdown",
   "metadata": {},
   "source": [
    "At this point, we might come up with few more tests:\n",
    "1. \\$5 + 10 CHF = \\$10 if rate is 2:1.\n",
    "2. **\\$5 * 2 = \\$10**.\n",
    "3. make `amount` private.\n",
    "4. Dollar side-effects?\n",
    "5. Money rounding?"
   ]
  },
  {
   "cell_type": "code",
   "execution_count": 2,
   "metadata": {},
   "outputs": [
    {
     "ename": "NameError",
     "evalue": "name 'Dollar' is not defined",
     "output_type": "error",
     "traceback": [
      "\u001b[0;31m---------------------------------------------------------------------------\u001b[0m",
      "\u001b[0;31mNameError\u001b[0m                                 Traceback (most recent call last)",
      "Cell \u001b[0;32mIn[2], line 1\u001b[0m\n\u001b[0;32m----> 1\u001b[0m \u001b[43mtestMultiplication\u001b[49m\u001b[43m(\u001b[49m\u001b[43m)\u001b[49m\n",
      "Cell \u001b[0;32mIn[1], line 2\u001b[0m, in \u001b[0;36mtestMultiplication\u001b[0;34m()\u001b[0m\n\u001b[1;32m      1\u001b[0m \u001b[38;5;28;01mdef\u001b[39;00m \u001b[38;5;21mtestMultiplication\u001b[39m():\n\u001b[0;32m----> 2\u001b[0m     five \u001b[38;5;241m=\u001b[39m \u001b[43mDollar\u001b[49m(\u001b[38;5;241m5\u001b[39m)\n\u001b[1;32m      3\u001b[0m     five\u001b[38;5;241m.\u001b[39mtimes(\u001b[38;5;241m2\u001b[39m)\n\u001b[1;32m      4\u001b[0m     \u001b[38;5;28;01massert\u001b[39;00m \u001b[38;5;241m10\u001b[39m \u001b[38;5;241m==\u001b[39m five\u001b[38;5;241m.\u001b[39mamount\n",
      "\u001b[0;31mNameError\u001b[0m: name 'Dollar' is not defined"
     ]
    }
   ],
   "source": [
    "testMultiplication()"
   ]
  },
  {
   "cell_type": "markdown",
   "metadata": {},
   "source": [
    "We see that the test ***does not pass***. It does not even compile. This is a \"Red\". \n",
    "\n",
    "We'll make it \"Green\" as quickly as possible by wrting the ***simplest code***."
   ]
  },
  {
   "cell_type": "markdown",
   "metadata": {},
   "source": [
    "There are 4 compile errors:\n",
    "\n",
    "1. No class `Dolla`.\n",
    "2. No constructor.\n",
    "3. No method `times(int)`.\n",
    "4. No field `amount`.\n",
    "\n",
    "Let's take them ***one at a time***."
   ]
  },
  {
   "cell_type": "code",
   "execution_count": 3,
   "metadata": {},
   "outputs": [
    {
     "ename": "TypeError",
     "evalue": "Dollar() takes no arguments",
     "output_type": "error",
     "traceback": [
      "\u001b[0;31m---------------------------------------------------------------------------\u001b[0m",
      "\u001b[0;31mTypeError\u001b[0m                                 Traceback (most recent call last)",
      "Cell \u001b[0;32mIn[3], line 5\u001b[0m\n\u001b[1;32m      1\u001b[0m \u001b[38;5;28;01mclass\u001b[39;00m \u001b[38;5;21;01mDollar\u001b[39;00m:\n\u001b[1;32m      2\u001b[0m     \u001b[38;5;28;01mpass\u001b[39;00m\n\u001b[0;32m----> 5\u001b[0m \u001b[43mtestMultiplication\u001b[49m\u001b[43m(\u001b[49m\u001b[43m)\u001b[49m\n",
      "Cell \u001b[0;32mIn[1], line 2\u001b[0m, in \u001b[0;36mtestMultiplication\u001b[0;34m()\u001b[0m\n\u001b[1;32m      1\u001b[0m \u001b[38;5;28;01mdef\u001b[39;00m \u001b[38;5;21mtestMultiplication\u001b[39m():\n\u001b[0;32m----> 2\u001b[0m     five \u001b[38;5;241m=\u001b[39m \u001b[43mDollar\u001b[49m\u001b[43m(\u001b[49m\u001b[38;5;241;43m5\u001b[39;49m\u001b[43m)\u001b[49m\n\u001b[1;32m      3\u001b[0m     five\u001b[38;5;241m.\u001b[39mtimes(\u001b[38;5;241m2\u001b[39m)\n\u001b[1;32m      4\u001b[0m     \u001b[38;5;28;01massert\u001b[39;00m \u001b[38;5;241m10\u001b[39m \u001b[38;5;241m==\u001b[39m five\u001b[38;5;241m.\u001b[39mamount\n",
      "\u001b[0;31mTypeError\u001b[0m: Dollar() takes no arguments"
     ]
    }
   ],
   "source": [
    "class Dollar:\n",
    "    pass\n",
    "\n",
    "\n",
    "testMultiplication()"
   ]
  },
  {
   "cell_type": "markdown",
   "metadata": {},
   "source": [
    "One error down, three errors to go. Now we need the constructor, but ***it doesn’t have to do anything just to get the test to compile***:"
   ]
  },
  {
   "cell_type": "code",
   "execution_count": 4,
   "metadata": {},
   "outputs": [
    {
     "ename": "AttributeError",
     "evalue": "'Dollar' object has no attribute 'times'",
     "output_type": "error",
     "traceback": [
      "\u001b[0;31m---------------------------------------------------------------------------\u001b[0m",
      "\u001b[0;31mAttributeError\u001b[0m                            Traceback (most recent call last)",
      "Cell \u001b[0;32mIn[4], line 8\u001b[0m\n\u001b[1;32m      4\u001b[0m     \u001b[38;5;28;01mdef\u001b[39;00m \u001b[38;5;21m__init__\u001b[39m(\u001b[38;5;28mself\u001b[39m, amount):\n\u001b[1;32m      5\u001b[0m         \u001b[38;5;28;01mpass\u001b[39;00m\n\u001b[0;32m----> 8\u001b[0m \u001b[43mtestMultiplication\u001b[49m\u001b[43m(\u001b[49m\u001b[43m)\u001b[49m\n",
      "Cell \u001b[0;32mIn[1], line 3\u001b[0m, in \u001b[0;36mtestMultiplication\u001b[0;34m()\u001b[0m\n\u001b[1;32m      1\u001b[0m \u001b[38;5;28;01mdef\u001b[39;00m \u001b[38;5;21mtestMultiplication\u001b[39m():\n\u001b[1;32m      2\u001b[0m     five \u001b[38;5;241m=\u001b[39m Dollar(\u001b[38;5;241m5\u001b[39m)\n\u001b[0;32m----> 3\u001b[0m     \u001b[43mfive\u001b[49m\u001b[38;5;241;43m.\u001b[39;49m\u001b[43mtimes\u001b[49m(\u001b[38;5;241m2\u001b[39m)\n\u001b[1;32m      4\u001b[0m     \u001b[38;5;28;01massert\u001b[39;00m \u001b[38;5;241m10\u001b[39m \u001b[38;5;241m==\u001b[39m five\u001b[38;5;241m.\u001b[39mamount\n",
      "\u001b[0;31mAttributeError\u001b[0m: 'Dollar' object has no attribute 'times'"
     ]
    }
   ],
   "source": [
    "class Dollar:\n",
    "\n",
    "\n",
    "    def __init__(self, amount):\n",
    "        pass\n",
    "\n",
    "\n",
    "testMultiplication()"
   ]
  },
  {
   "cell_type": "markdown",
   "metadata": {},
   "source": [
    "Two errors to go. We need a stub implementation of `times()`. Again we’ll do the ***least*** work possible ***just to get the test to compile***:"
   ]
  },
  {
   "cell_type": "code",
   "execution_count": 5,
   "metadata": {},
   "outputs": [
    {
     "ename": "AttributeError",
     "evalue": "'Dollar' object has no attribute 'amount'",
     "output_type": "error",
     "traceback": [
      "\u001b[0;31m---------------------------------------------------------------------------\u001b[0m",
      "\u001b[0;31mAttributeError\u001b[0m                            Traceback (most recent call last)",
      "Cell \u001b[0;32mIn[5], line 12\u001b[0m\n\u001b[1;32m      8\u001b[0m     \u001b[38;5;28;01mdef\u001b[39;00m \u001b[38;5;21mtimes\u001b[39m(\u001b[38;5;28mself\u001b[39m, multiplier):\n\u001b[1;32m      9\u001b[0m         \u001b[38;5;28;01mpass\u001b[39;00m\n\u001b[0;32m---> 12\u001b[0m \u001b[43mtestMultiplication\u001b[49m\u001b[43m(\u001b[49m\u001b[43m)\u001b[49m\n",
      "Cell \u001b[0;32mIn[1], line 4\u001b[0m, in \u001b[0;36mtestMultiplication\u001b[0;34m()\u001b[0m\n\u001b[1;32m      2\u001b[0m five \u001b[38;5;241m=\u001b[39m Dollar(\u001b[38;5;241m5\u001b[39m)\n\u001b[1;32m      3\u001b[0m five\u001b[38;5;241m.\u001b[39mtimes(\u001b[38;5;241m2\u001b[39m)\n\u001b[0;32m----> 4\u001b[0m \u001b[38;5;28;01massert\u001b[39;00m \u001b[38;5;241m10\u001b[39m \u001b[38;5;241m==\u001b[39m \u001b[43mfive\u001b[49m\u001b[38;5;241;43m.\u001b[39;49m\u001b[43mamount\u001b[49m\n",
      "\u001b[0;31mAttributeError\u001b[0m: 'Dollar' object has no attribute 'amount'"
     ]
    }
   ],
   "source": [
    "class Dollar:\n",
    "\n",
    "\n",
    "    def __init__(self, amount):\n",
    "        pass\n",
    "\n",
    "\n",
    "    def times(self, multiplier):\n",
    "        pass\n",
    "\n",
    "\n",
    "testMultiplication()"
   ]
  },
  {
   "cell_type": "markdown",
   "metadata": {},
   "source": [
    "Down to one error. Finally, we need an `amount` field:"
   ]
  },
  {
   "cell_type": "code",
   "execution_count": 6,
   "metadata": {},
   "outputs": [
    {
     "ename": "AssertionError",
     "evalue": "",
     "output_type": "error",
     "traceback": [
      "\u001b[0;31m---------------------------------------------------------------------------\u001b[0m",
      "\u001b[0;31mAssertionError\u001b[0m                            Traceback (most recent call last)",
      "Cell \u001b[0;32mIn[6], line 12\u001b[0m\n\u001b[1;32m      8\u001b[0m     \u001b[38;5;28;01mdef\u001b[39;00m \u001b[38;5;21mtimes\u001b[39m(\u001b[38;5;28mself\u001b[39m, multiplier):\n\u001b[1;32m      9\u001b[0m         \u001b[38;5;28;01mpass\u001b[39;00m\n\u001b[0;32m---> 12\u001b[0m \u001b[43mtestMultiplication\u001b[49m\u001b[43m(\u001b[49m\u001b[43m)\u001b[49m\n",
      "Cell \u001b[0;32mIn[1], line 4\u001b[0m, in \u001b[0;36mtestMultiplication\u001b[0;34m()\u001b[0m\n\u001b[1;32m      2\u001b[0m five \u001b[38;5;241m=\u001b[39m Dollar(\u001b[38;5;241m5\u001b[39m)\n\u001b[1;32m      3\u001b[0m five\u001b[38;5;241m.\u001b[39mtimes(\u001b[38;5;241m2\u001b[39m)\n\u001b[0;32m----> 4\u001b[0m \u001b[38;5;28;01massert\u001b[39;00m \u001b[38;5;241m10\u001b[39m \u001b[38;5;241m==\u001b[39m five\u001b[38;5;241m.\u001b[39mamount\n",
      "\u001b[0;31mAssertionError\u001b[0m: "
     ]
    }
   ],
   "source": [
    "class Dollar:\n",
    "\n",
    "\n",
    "    def __init__(self, amount):\n",
    "        self.amount = int()\n",
    "\n",
    "\n",
    "    def times(self, multiplier):\n",
    "        pass\n",
    "\n",
    "\n",
    "testMultiplication()"
   ]
  },
  {
   "cell_type": "markdown",
   "metadata": {},
   "source": [
    "Bingo! Now we can run the test and watch it fail."
   ]
  },
  {
   "cell_type": "markdown",
   "metadata": {},
   "source": [
    "Here’s the smallest change I could imagine that would cause our test to pass:"
   ]
  },
  {
   "cell_type": "code",
   "execution_count": 7,
   "metadata": {},
   "outputs": [],
   "source": [
    "class Dollar:\n",
    "\n",
    "\n",
    "    def __init__(self, amount):\n",
    "        self.amount = 5 * 2\n",
    "\n",
    "\n",
    "    def times(self, multiplier):\n",
    "        pass\n",
    "\n",
    "\n",
    "testMultiplication()"
   ]
  },
  {
   "cell_type": "markdown",
   "metadata": {},
   "source": [
    "You probably aren’t going to like the solution, but ***the goal right now is not\n",
    "to get the perfect answer but to pass the test***. We’ll make our sacrifice at the\n",
    "altar of truth and beauty later."
   ]
  },
  {
   "cell_type": "markdown",
   "metadata": {},
   "source": [
    "We need to generalize before we\n",
    "move on. Remember, the cycle is as follows.\n",
    "1. Add a little test.\n",
    "2. Run all tests and fail.\n",
    "3. Make a little change.\n",
    "4. Run the tests and succeed.\n",
    "5. Refactor to remove duplication.\n",
    "\n",
    "We have run items 1 through 4. Now we are ready to remove duplication"
   ]
  },
  {
   "cell_type": "markdown",
   "metadata": {},
   "source": [
    "> [!NOTE]\n",
    "> Dependency and Duplication\n",
    "> \n",
    "> Steve Freeman pointed out that the problem with the test and code as it sits is ***not duplication*** (which I have not yet pointed out to you, but I promise to as soon as this\n",
    "digression is over). The problem is the ***dependency*** between the code and the test—\n",
    "you can’t change one without changing the other. Our goal is to be able to write\n",
    "another test that “makes sense” to us, without having to change the code, something\n",
    "that is not possible with the current implementation.\n",
    ">\n",
    "> If dependency is the problem, duplication is the symptom. Duplication most often\n",
    "takes the form of duplicate logic in multiple places in the code. ***Objects are excellent for abstracting away the duplication of logic***.\n",
    ">\n",
    "> ***Eliminating duplication in programs eliminates dependency***. That’s why the second rule appears in TDD: eliminating duplication ***before we go on to the next test***."
   ]
  },
  {
   "cell_type": "markdown",
   "metadata": {},
   "source": [
    "The duplication here is the `5` and `2`. Observing that we've duplicated `5` twice, one at the test and one at the code. We can get rid of this duplication by replacing the `5` with object `amount` and similarly the `2` with object `multiplier`."
   ]
  },
  {
   "cell_type": "code",
   "execution_count": 8,
   "metadata": {},
   "outputs": [],
   "source": [
    "class Dollar:\n",
    "\n",
    "\n",
    "    def __init__(self, amount):\n",
    "        self.amount = amount\n",
    "\n",
    "\n",
    "    def times(self, multiplier):\n",
    "        self.amount *= multiplier\n",
    "\n",
    "\n",
    "testMultiplication()"
   ]
  },
  {
   "cell_type": "markdown",
   "metadata": {},
   "source": [
    "We can now mark off the first test as done:\n",
    "1. \\$5 + 10 CHF = \\$10 if rate is 2:1.\n",
    "2. ~~\\$5 * 2 = \\$10~~.\n",
    "3. make `amount` private.\n",
    "4. Dollar side-effects?\n",
    "5. Money rounding?"
   ]
  }
 ],
 "metadata": {
  "kernelspec": {
   "display_name": ".venv",
   "language": "python",
   "name": "python3"
  },
  "language_info": {
   "codemirror_mode": {
    "name": "ipython",
    "version": 3
   },
   "file_extension": ".py",
   "mimetype": "text/x-python",
   "name": "python",
   "nbconvert_exporter": "python",
   "pygments_lexer": "ipython3",
   "version": "3.10.12"
  }
 },
 "nbformat": 4,
 "nbformat_minor": 2
}
