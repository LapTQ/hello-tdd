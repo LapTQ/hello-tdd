{
 "cells": [
  {
   "cell_type": "code",
   "execution_count": 2,
   "metadata": {},
   "outputs": [],
   "source": [
    "class Dollar:\n",
    "\n",
    "\n",
    "    def __init__(self, amount):\n",
    "        self.amount = amount\n",
    "\n",
    "\n",
    "    def times(self, multiplier):\n",
    "        return Dollar(self.amount * multiplier)\n",
    "    \n",
    "    \n",
    "    def __eq__(self, object):\n",
    "        return self.amount == object.amount"
   ]
  },
  {
   "cell_type": "markdown",
   "metadata": {},
   "source": [
    "1. $5 + 10 CHF = $10 if rate is 2:1.\n",
    "2. ~~$5 * 2 = $10~~.\n",
    "3. **make `amount` private**.\n",
    "4. ~~Dollar side-effects?~~\n",
    "5. Money rounding?\n",
    "6. ~~`equals()`~~.\n",
    "7. Equal null.\n",
    "8. Equal object."
   ]
  },
  {
   "cell_type": "code",
   "execution_count": 8,
   "metadata": {},
   "outputs": [],
   "source": [
    "def testEquality():\n",
    "    assert Dollar(5) == Dollar(5)\n",
    "    assert Dollar(5) != Dollar(6)\n",
    "\n",
    "\n",
    "def testMultiplication():\n",
    "    five = Dollar(5)\n",
    "    assert Dollar(10) == five.times(2)\n",
    "    assert Dollar(15) == five.times(3)"
   ]
  },
  {
   "cell_type": "code",
   "execution_count": 9,
   "metadata": {},
   "outputs": [],
   "source": [
    "class Dollar:\n",
    "\n",
    "\n",
    "    def __init__(self, amount):\n",
    "        self._amount = amount\n",
    "\n",
    "\n",
    "    def times(self, multiplier):\n",
    "        return Dollar(self._amount * multiplier)\n",
    "    \n",
    "    \n",
    "    def __eq__(self, object):\n",
    "        return self._amount == object._amount\n",
    "    \n",
    "\n",
    "testEquality()\n",
    "testMultiplication()"
   ]
  },
  {
   "cell_type": "markdown",
   "metadata": {},
   "source": [
    "Notice that we have opened ourselves up to a risk. If the test for equality fails to accurately check that equality is working, then the test for multiplication could also fail to accurately check that multiplication is working. This is a risk that we actively manage in TDD."
   ]
  }
 ],
 "metadata": {
  "kernelspec": {
   "display_name": ".venv",
   "language": "python",
   "name": "python3"
  },
  "language_info": {
   "codemirror_mode": {
    "name": "ipython",
    "version": 3
   },
   "file_extension": ".py",
   "mimetype": "text/x-python",
   "name": "python",
   "nbconvert_exporter": "python",
   "pygments_lexer": "ipython3",
   "version": "3.10.12"
  }
 },
 "nbformat": 4,
 "nbformat_minor": 2
}
