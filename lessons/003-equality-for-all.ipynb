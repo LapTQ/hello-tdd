{
 "cells": [
  {
   "cell_type": "markdown",
   "metadata": {},
   "source": [
    "Here is our implementation since the last lesson:"
   ]
  },
  {
   "cell_type": "code",
   "execution_count": 1,
   "metadata": {},
   "outputs": [],
   "source": [
    "class Dollar:\n",
    "\n",
    "\n",
    "    def __init__(self, amount):\n",
    "        self.amount = amount\n",
    "\n",
    "\n",
    "    def times(self, multiplier):\n",
    "        return Dollar(self.amount * multiplier)\n",
    "\n",
    "\n",
    "def testMultiplication():\n",
    "    five = Dollar(5)\n",
    "    product = five.times(2)\n",
    "    assert 10 == product.amount\n",
    "    product = five.times(3)\n",
    "    assert 15 == product.amount\n",
    "\n",
    "\n",
    "testMultiplication()"
   ]
  },
  {
   "cell_type": "markdown",
   "metadata": {},
   "source": [
    "If I have an integer and I add 1 to it, I don’t expect the original integer to\n",
    "change, I expect to use the new value. Some of the nastiest bugs in\n",
    "my career is aliasing.\n",
    "\n",
    "To avoid aliasing, we can use Value Objects as values. The `Dollar` object that we've been using so far is an example of a Value Object. However, one of the ***constraint*** on Value Objects is that the values of the instance variables of the object (which is `amount` in this case) ***never change*** once they have been set in the ***constructor***.\n",
    "\n",
    "If you can do so, then you needn't worry about aliasing."
   ]
  },
  {
   "cell_type": "markdown",
   "metadata": {},
   "source": [
    "However, Value Object have some implication. 2 of them are:\n",
    "1. all operations must return a new object, as we've seen in the `times` method.\n",
    "2. it should implement `equals()` method. Also, if you use `Dollar` as the key to a hash table, then you have to implement `hashCode()` method.\n",
    "\n",
    "Our to-do list now becomes:\n",
    "\n",
    "1. $5 + 10 CHF = $10 if rate is 2:1.\n",
    "2. ~~$5 * 2 = $10~~.\n",
    "3. make `amount` private.\n",
    "4. ~~Dollar side-effects?~~\n",
    "5. Money rounding?\n",
    "6. `equals()`"
   ]
  },
  {
   "cell_type": "code",
   "execution_count": 2,
   "metadata": {},
   "outputs": [
    {
     "ename": "AttributeError",
     "evalue": "'Dollar' object has no attribute 'equals'",
     "output_type": "error",
     "traceback": [
      "\u001b[0;31m---------------------------------------------------------------------------\u001b[0m",
      "\u001b[0;31mAttributeError\u001b[0m                            Traceback (most recent call last)",
      "Cell \u001b[0;32mIn[2], line 4\u001b[0m\n\u001b[1;32m      1\u001b[0m \u001b[38;5;28;01mdef\u001b[39;00m \u001b[38;5;21mtestEquality\u001b[39m():\n\u001b[1;32m      2\u001b[0m     \u001b[38;5;28;01massert\u001b[39;00m Dollar(\u001b[38;5;241m5\u001b[39m)\u001b[38;5;241m.\u001b[39mequals(Dollar(\u001b[38;5;241m5\u001b[39m))\n\u001b[0;32m----> 4\u001b[0m \u001b[43mtestEquality\u001b[49m\u001b[43m(\u001b[49m\u001b[43m)\u001b[49m\n",
      "Cell \u001b[0;32mIn[2], line 2\u001b[0m, in \u001b[0;36mtestEquality\u001b[0;34m()\u001b[0m\n\u001b[1;32m      1\u001b[0m \u001b[38;5;28;01mdef\u001b[39;00m \u001b[38;5;21mtestEquality\u001b[39m():\n\u001b[0;32m----> 2\u001b[0m     \u001b[38;5;28;01massert\u001b[39;00m \u001b[43mDollar\u001b[49m\u001b[43m(\u001b[49m\u001b[38;5;241;43m5\u001b[39;49m\u001b[43m)\u001b[49m\u001b[38;5;241;43m.\u001b[39;49m\u001b[43mequals\u001b[49m(Dollar(\u001b[38;5;241m5\u001b[39m))\n",
      "\u001b[0;31mAttributeError\u001b[0m: 'Dollar' object has no attribute 'equals'"
     ]
    }
   ],
   "source": [
    "def testEquality():\n",
    "    assert Dollar(5).equals(Dollar(5))\n",
    "\n",
    "testEquality()"
   ]
  },
  {
   "cell_type": "markdown",
   "metadata": {},
   "source": [
    "Let's write fake the implementation just to make the test pass:"
   ]
  },
  {
   "cell_type": "code",
   "execution_count": 3,
   "metadata": {},
   "outputs": [],
   "source": [
    "class Dollar:\n",
    "\n",
    "\n",
    "    def __init__(self, amount):\n",
    "        self.amount = amount\n",
    "\n",
    "\n",
    "    def times(self, multiplier):\n",
    "        return Dollar(self.amount * multiplier)\n",
    "    \n",
    "    \n",
    "    def equals(self, object):\n",
    "        return True\n",
    "    \n",
    "\n",
    "testEquality()"
   ]
  },
  {
   "cell_type": "markdown",
   "metadata": {},
   "source": [
    "We know that the real implementation should be: `return self.amount == object.amount`. However, I didn't do so in order to demonstrate to you the third strategy of TDD: Triangulation.\n",
    "\n",
    "When we triangulate, we only generalize code when we have two examples or more:"
   ]
  },
  {
   "cell_type": "code",
   "execution_count": 4,
   "metadata": {},
   "outputs": [
    {
     "ename": "AssertionError",
     "evalue": "",
     "output_type": "error",
     "traceback": [
      "\u001b[0;31m---------------------------------------------------------------------------\u001b[0m",
      "\u001b[0;31mAssertionError\u001b[0m                            Traceback (most recent call last)",
      "Cell \u001b[0;32mIn[4], line 5\u001b[0m\n\u001b[1;32m      2\u001b[0m     \u001b[38;5;28;01massert\u001b[39;00m Dollar(\u001b[38;5;241m5\u001b[39m)\u001b[38;5;241m.\u001b[39mequals(Dollar(\u001b[38;5;241m5\u001b[39m))\n\u001b[1;32m      3\u001b[0m     \u001b[38;5;28;01massert\u001b[39;00m \u001b[38;5;129;01mnot\u001b[39;00m Dollar(\u001b[38;5;241m5\u001b[39m)\u001b[38;5;241m.\u001b[39mequals(Dollar(\u001b[38;5;241m6\u001b[39m))\n\u001b[0;32m----> 5\u001b[0m \u001b[43mtestEquality\u001b[49m\u001b[43m(\u001b[49m\u001b[43m)\u001b[49m\n",
      "Cell \u001b[0;32mIn[4], line 3\u001b[0m, in \u001b[0;36mtestEquality\u001b[0;34m()\u001b[0m\n\u001b[1;32m      1\u001b[0m \u001b[38;5;28;01mdef\u001b[39;00m \u001b[38;5;21mtestEquality\u001b[39m():\n\u001b[1;32m      2\u001b[0m     \u001b[38;5;28;01massert\u001b[39;00m Dollar(\u001b[38;5;241m5\u001b[39m)\u001b[38;5;241m.\u001b[39mequals(Dollar(\u001b[38;5;241m5\u001b[39m))\n\u001b[0;32m----> 3\u001b[0m     \u001b[38;5;28;01massert\u001b[39;00m \u001b[38;5;129;01mnot\u001b[39;00m Dollar(\u001b[38;5;241m5\u001b[39m)\u001b[38;5;241m.\u001b[39mequals(Dollar(\u001b[38;5;241m6\u001b[39m))\n",
      "\u001b[0;31mAssertionError\u001b[0m: "
     ]
    }
   ],
   "source": [
    "def testEquality():\n",
    "    assert Dollar(5).equals(Dollar(5))\n",
    "    assert not Dollar(5).equals(Dollar(6))\n",
    "\n",
    "testEquality()"
   ]
  },
  {
   "cell_type": "markdown",
   "metadata": {},
   "source": [
    "Now we need to generalize the code:"
   ]
  },
  {
   "cell_type": "code",
   "execution_count": 5,
   "metadata": {},
   "outputs": [],
   "source": [
    "class Dollar:\n",
    "\n",
    "\n",
    "    def __init__(self, amount):\n",
    "        self.amount = amount\n",
    "\n",
    "\n",
    "    def times(self, multiplier):\n",
    "        return Dollar(self.amount * multiplier)\n",
    "    \n",
    "    \n",
    "    def equals(self, object):\n",
    "        return self.amount == object.amount\n",
    "    \n",
    "\n",
    "testEquality()"
   ]
  },
  {
   "cell_type": "markdown",
   "metadata": {},
   "source": [
    "So, the takeaway is: do not refactor immediately, but instead test further."
   ]
  },
  {
   "cell_type": "markdown",
   "metadata": {},
   "source": [
    "1. $5 + 10 CHF = $10 if rate is 2:1.\n",
    "2. ~~$5 * 2 = $10~~.\n",
    "3. make `amount` private.\n",
    "4. ~~Dollar side-effects?~~\n",
    "5. Money rounding?\n",
    "6. ~~`equals()`~~.\n",
    "7. Equal null.\n",
    "8. Equal object."
   ]
  },
  {
   "cell_type": "markdown",
   "metadata": {},
   "source": [
    "> [!IMPORTANT]\n",
    "> Triangulation is useful for me when I'm not sure how to refactor to eliminate duplication."
   ]
  },
  {
   "cell_type": "markdown",
   "metadata": {},
   "source": [
    "Now we have equality, that will let us make `amount` private."
   ]
  }
 ],
 "metadata": {
  "kernelspec": {
   "display_name": ".venv",
   "language": "python",
   "name": "python3"
  },
  "language_info": {
   "codemirror_mode": {
    "name": "ipython",
    "version": 3
   },
   "file_extension": ".py",
   "mimetype": "text/x-python",
   "name": "python",
   "nbconvert_exporter": "python",
   "pygments_lexer": "ipython3",
   "version": "3.10.12"
  }
 },
 "nbformat": 4,
 "nbformat_minor": 2
}
