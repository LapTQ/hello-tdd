{
 "cells": [
  {
   "cell_type": "code",
   "execution_count": 15,
   "metadata": {},
   "outputs": [],
   "source": [
    "def testEquality():\n",
    "    assert Dollar(5) == Dollar(5)\n",
    "    assert Dollar(5) != Dollar(6)\n",
    "\n",
    "\n",
    "class Dollar:\n",
    "\n",
    "\n",
    "    def __init__(self, amount):\n",
    "        self._amount = amount\n",
    "\n",
    "\n",
    "    def times(self, multiplier):\n",
    "        return Dollar(self._amount * multiplier)\n",
    "    \n",
    "    \n",
    "    def __eq__(self, object):\n",
    "        return self._amount == object._amount\n",
    "    \n",
    "\n",
    "class Franc:\n",
    "\n",
    "\n",
    "    def __init__(self, amount):\n",
    "        self._amount = amount\n",
    "\n",
    "\n",
    "    def times(self, multiplier):\n",
    "        return Franc(self._amount * multiplier)\n",
    "    \n",
    "    \n",
    "    def __eq__(self, object):\n",
    "        return self._amount == object._amount"
   ]
  },
  {
   "cell_type": "markdown",
   "metadata": {},
   "source": [
    "1. \\\\$5 + 10 CHF = \\\\$10 if rate is 2:1.\n",
    "2. ~~\\\\$5 * 2 = \\\\$10~~.\n",
    "3. ~~make `amount` private~~.\n",
    "4. ~~Dollar side-effects?~~\n",
    "5. Money rounding?\n",
    "6. ~~`equals()`~~.\n",
    "7. Equal null.\n",
    "8. Equal object.\n",
    "9. ~~5 CHF * 2 = 10 CHF~~.\n",
    "10. Dollar/Franc duplication.\n",
    "11. **Common equals**.\n",
    "12. Common times."
   ]
  },
  {
   "cell_type": "markdown",
   "metadata": {},
   "source": [
    "We actually got a new test case working.\n",
    "But we sinned mightily in copying and pasting tons of code in order to do it\n",
    "quickly. Now it is time to clean up."
   ]
  },
  {
   "cell_type": "markdown",
   "metadata": {},
   "source": [
    "One possibility is to make one of our classes extend the other. I tried it, and it\n",
    "hardly saves any code at all. Instead, we are going to find a common superclass\n",
    "for the two classes"
   ]
  },
  {
   "cell_type": "code",
   "execution_count": 19,
   "metadata": {},
   "outputs": [],
   "source": [
    "class Money:\n",
    "    \n",
    "    _amount = None     # In Java, protected\n",
    "    \n",
    "    \n",
    "    def __eq__(self, object):\n",
    "        # In Java, casting to Money first, then:\n",
    "        return self._amount == object._amount\n",
    "    \n",
    "\n",
    "class Dollar(Money):\n",
    "\n",
    "\n",
    "    def __init__(self, amount):\n",
    "        self._amount = amount\n",
    "\n",
    "\n",
    "    def times(self, multiplier):\n",
    "        return Dollar(self._amount * multiplier)"
   ]
  },
  {
   "cell_type": "markdown",
   "metadata": {},
   "source": [
    "Before we eliminate `Franc.__eq__()`, we need to write tests:"
   ]
  },
  {
   "cell_type": "code",
   "execution_count": 20,
   "metadata": {},
   "outputs": [],
   "source": [
    "def testEquality():\n",
    "    assert Dollar(5) == Dollar(5)\n",
    "    assert Dollar(5) != Dollar(6)\n",
    "    assert Franc(5) == Franc(5)\n",
    "    assert Franc(5) != Franc(6)\n",
    "\n",
    "\n",
    "testEquality()"
   ]
  },
  {
   "cell_type": "code",
   "execution_count": 21,
   "metadata": {},
   "outputs": [],
   "source": [
    "class Franc(Money):\n",
    "\n",
    "\n",
    "    def __init__(self, amount):\n",
    "        self._amount = amount\n",
    "\n",
    "\n",
    "    def times(self, multiplier):\n",
    "        return Franc(self._amount * multiplier)\n",
    "    \n",
    "\n",
    "testEquality()"
   ]
  },
  {
   "cell_type": "markdown",
   "metadata": {},
   "source": [
    "1. \\\\$5 + 10 CHF = \\\\$10 if rate is 2:1.\n",
    "2. ~~\\\\$5 * 2 = \\\\$10~~.\n",
    "3. ~~make `amount` private~~.\n",
    "4. ~~Dollar side-effects?~~\n",
    "5. Money rounding?\n",
    "6. ~~`equals()`~~.\n",
    "7. Equal null.\n",
    "8. Equal object.\n",
    "9. ~~5 CHF * 2 = 10 CHF~~.\n",
    "10. Dollar/Franc duplication.\n",
    "11. ~~Common equals~~.\n",
    "12. Common times.\n",
    "13. Compare Francs with Dollars."
   ]
  },
  {
   "cell_type": "markdown",
   "metadata": {},
   "source": [
    "# Appendix"
   ]
  },
  {
   "cell_type": "code",
   "execution_count": 14,
   "metadata": {},
   "outputs": [
    {
     "name": "stdout",
     "output_type": "stream",
     "text": [
      "True True True\n",
      "1 1 1\n",
      "False True False\n",
      "2 1 1\n",
      "False True False\n",
      "2 3 3\n"
     ]
    }
   ],
   "source": [
    "class X:\n",
    "    def __init__(self, x):\n",
    "        self.x = x\n",
    "    def __str__(self):\n",
    "        return str(self.x)\n",
    "\n",
    "class A:\n",
    "    x = X(1)\n",
    "\n",
    "a1 = A()\n",
    "a2 = A()\n",
    "\n",
    "print(a1.x is A.x, a2.x is A.x, a1.x is a2.x)\n",
    "print(a1.x, a2.x, A.x)\n",
    "\n",
    "\n",
    "a1.x = X(2)\n",
    "\n",
    "print(a1.x is A.x, a2.x is A.x, a1.x is a2.x)\n",
    "print(a1.x, a2.x, A.x)\n",
    "\n",
    "A.x = X(3)\n",
    "\n",
    "print(a1.x is A.x, a2.x is A.x, a1.x is a2.x)\n",
    "print(a1.x, a2.x, A.x)"
   ]
  }
 ],
 "metadata": {
  "kernelspec": {
   "display_name": ".venv",
   "language": "python",
   "name": "python3"
  },
  "language_info": {
   "codemirror_mode": {
    "name": "ipython",
    "version": 3
   },
   "file_extension": ".py",
   "mimetype": "text/x-python",
   "name": "python",
   "nbconvert_exporter": "python",
   "pygments_lexer": "ipython3",
   "version": "3.10.12"
  }
 },
 "nbformat": 4,
 "nbformat_minor": 2
}
