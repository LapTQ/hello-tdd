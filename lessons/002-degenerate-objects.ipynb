{
 "cells": [
  {
   "cell_type": "markdown",
   "metadata": {},
   "source": [
    "The goal of TDD is clean code that works. First we’ll solve the “that works” part of the problem. Then we’ll solve the “clean code” part later.\n",
    "\n",
    "This is the opposite of\n",
    "architecture-driven development, where you solve “clean code” first, then trying to integrate into the design when you solve the “that works” problem.\n"
   ]
  },
  {
   "cell_type": "markdown",
   "metadata": {},
   "source": [
    "1. $5 + 10 CHF = $10 if rate is 2:1.\n",
    "2. ~~$5 * 2 = $10~~.\n",
    "3. make `amount` private.\n",
    "4. **Dollar side-effects?**\n",
    "5. Money rounding?\n",
    "\n",
    "We got one test to work, but noticed something strange: when\n",
    "we perform an operation on a Dollar, ***the Dollar changes***. I want to be able to write:\n",
    "\n",
    "```python\n",
    "def testMultiplication():\n",
    "    five = Dolla(5)\n",
    "    five.times(2)\n",
    "    assert 10 == five.amount\n",
    "    five.times(3)\n",
    "    assert 15 == five.amount\n",
    "```\n",
    "\n",
    "We're in \"Red\" now. I can’t imagine a clean way to get this test to work. However, we can get things done by changing both the interface of `Dollar` and the test:"
   ]
  },
  {
   "cell_type": "code",
   "execution_count": 2,
   "metadata": {},
   "outputs": [],
   "source": [
    "class Dollar:\n",
    "\n",
    "\n",
    "    def __init__(self, amount):\n",
    "        self.amount = amount\n",
    "\n",
    "\n",
    "    def times(self, multiplier):\n",
    "        return Dollar(self.amount * multiplier)\n",
    "\n",
    "\n",
    "def testMultiplication():\n",
    "    five = Dollar(5)\n",
    "    product = five.times(2)\n",
    "    assert 10 == product.amount\n",
    "    product = five.times(3)\n",
    "    assert 15 == product.amount\n",
    "\n",
    "\n",
    "testMultiplication()"
   ]
  },
  {
   "cell_type": "markdown",
   "metadata": {},
   "source": [
    "1. $5 + 10 CHF = $10 if rate is 2:1.\n",
    "2. ~~$5 * 2 = $10~~.\n",
    "3. make `amount` private.\n",
    "4. ~~Dollar side-effects?~~\n",
    "5. Money rounding?"
   ]
  },
  {
   "cell_type": "markdown",
   "metadata": {},
   "source": [
    "> [!NOTE]\n",
    "> The translation of a feeling (for example, disgust at side effects) into a test (for\n",
    "example, multiply the same Dollar twice) is a common theme of TDD."
   ]
  },
  {
   "cell_type": "code",
   "execution_count": null,
   "metadata": {},
   "outputs": [],
   "source": []
  }
 ],
 "metadata": {
  "kernelspec": {
   "display_name": ".venv",
   "language": "python",
   "name": "python3"
  },
  "language_info": {
   "codemirror_mode": {
    "name": "ipython",
    "version": 3
   },
   "file_extension": ".py",
   "mimetype": "text/x-python",
   "name": "python",
   "nbconvert_exporter": "python",
   "pygments_lexer": "ipython3",
   "version": "3.10.12"
  }
 },
 "nbformat": 4,
 "nbformat_minor": 2
}
