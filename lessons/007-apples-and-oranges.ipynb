{
 "cells": [
  {
   "cell_type": "code",
   "execution_count": 3,
   "metadata": {},
   "outputs": [],
   "source": [
    "class Money:\n",
    "    \n",
    "    _amount = None     # In Java, protected\n",
    "    \n",
    "    \n",
    "    def __eq__(self, object):\n",
    "        # In Java, casting to Money first, then:\n",
    "        return self._amount == object._amount\n",
    "    \n",
    "\n",
    "class Dollar(Money):\n",
    "\n",
    "\n",
    "    def __init__(self, amount):\n",
    "        self._amount = amount\n",
    "\n",
    "\n",
    "    def times(self, multiplier):\n",
    "        return Dollar(self._amount * multiplier)\n",
    "    \n",
    "\n",
    "class Franc(Money):\n",
    "\n",
    "\n",
    "    def __init__(self, amount):\n",
    "        self._amount = amount\n",
    "\n",
    "\n",
    "    def times(self, multiplier):\n",
    "        return Franc(self._amount * multiplier)"
   ]
  },
  {
   "cell_type": "markdown",
   "metadata": {},
   "source": [
    "1. \\\\$5 + 10 CHF = \\\\$10 if rate is 2:1.\n",
    "2. ~~\\\\$5 * 2 = \\\\$10~~.\n",
    "3. ~~make `amount` private~~.\n",
    "4. ~~Dollar side-effects?~~\n",
    "5. Money rounding?\n",
    "6. ~~`equals()`~~.\n",
    "7. Equal null.\n",
    "8. Equal object.\n",
    "9. ~~5 CHF * 2 = 10 CHF~~.\n",
    "10. Dollar/Franc duplication.\n",
    "11. ~~Common equals~~.\n",
    "12. Common times.\n",
    "13. **Compare Francs with Dollars**."
   ]
  },
  {
   "cell_type": "code",
   "execution_count": 2,
   "metadata": {},
   "outputs": [
    {
     "ename": "AssertionError",
     "evalue": "",
     "output_type": "error",
     "traceback": [
      "\u001b[0;31m---------------------------------------------------------------------------\u001b[0m",
      "\u001b[0;31mAssertionError\u001b[0m                            Traceback (most recent call last)",
      "Cell \u001b[0;32mIn[2], line 9\u001b[0m\n\u001b[1;32m      5\u001b[0m     \u001b[38;5;28;01massert\u001b[39;00m Franc(\u001b[38;5;241m5\u001b[39m) \u001b[38;5;241m!=\u001b[39m Franc(\u001b[38;5;241m6\u001b[39m)\n\u001b[1;32m      6\u001b[0m     \u001b[38;5;28;01massert\u001b[39;00m Franc(\u001b[38;5;241m5\u001b[39m) \u001b[38;5;241m!=\u001b[39m Dollar(\u001b[38;5;241m5\u001b[39m)\n\u001b[0;32m----> 9\u001b[0m \u001b[43mtestEquality\u001b[49m\u001b[43m(\u001b[49m\u001b[43m)\u001b[49m\n",
      "Cell \u001b[0;32mIn[2], line 6\u001b[0m, in \u001b[0;36mtestEquality\u001b[0;34m()\u001b[0m\n\u001b[1;32m      4\u001b[0m \u001b[38;5;28;01massert\u001b[39;00m Franc(\u001b[38;5;241m5\u001b[39m) \u001b[38;5;241m==\u001b[39m Franc(\u001b[38;5;241m5\u001b[39m)\n\u001b[1;32m      5\u001b[0m \u001b[38;5;28;01massert\u001b[39;00m Franc(\u001b[38;5;241m5\u001b[39m) \u001b[38;5;241m!=\u001b[39m Franc(\u001b[38;5;241m6\u001b[39m)\n\u001b[0;32m----> 6\u001b[0m \u001b[38;5;28;01massert\u001b[39;00m Franc(\u001b[38;5;241m5\u001b[39m) \u001b[38;5;241m!=\u001b[39m Dollar(\u001b[38;5;241m5\u001b[39m)\n",
      "\u001b[0;31mAssertionError\u001b[0m: "
     ]
    }
   ],
   "source": [
    "def testEquality():\n",
    "    assert Dollar(5) == Dollar(5)\n",
    "    assert Dollar(5) != Dollar(6)\n",
    "    assert Franc(5) == Franc(5)\n",
    "    assert Franc(5) != Franc(6)\n",
    "    assert Franc(5) != Dollar(5)\n",
    "\n",
    "\n",
    "testEquality()"
   ]
  },
  {
   "cell_type": "markdown",
   "metadata": {},
   "source": [
    "One solution to make it green is by comparing the class of the 2 objects. "
   ]
  },
  {
   "cell_type": "code",
   "execution_count": 6,
   "metadata": {},
   "outputs": [],
   "source": [
    "class Money:\n",
    "    \n",
    "    _amount = None     # In Java, protected\n",
    "    \n",
    "    \n",
    "    def __eq__(self, object):\n",
    "        # In Java, casting to Money first, then:\n",
    "        return self._amount == object._amount and self.__class__ is object.__class__\n",
    "\n",
    "\n",
    "class Dollar(Money):\n",
    "\n",
    "\n",
    "    def __init__(self, amount):\n",
    "        self._amount = amount\n",
    "\n",
    "\n",
    "    def times(self, multiplier):\n",
    "        return Dollar(self._amount * multiplier)\n",
    "    \n",
    "\n",
    "class Franc(Money):\n",
    "\n",
    "\n",
    "    def __init__(self, amount):\n",
    "        self._amount = amount\n",
    "\n",
    "\n",
    "    def times(self, multiplier):\n",
    "        return Franc(self._amount * multiplier)\n",
    "    \n",
    "\n",
    "testEquality()"
   ]
  },
  {
   "cell_type": "markdown",
   "metadata": {},
   "source": [
    "I know this is a bit counter-intuitive, we want a criterion that make sense in the domain of finance, not in the domain of Python objects. However, we will accept this solution for now and leave the improvement for later in the to-do test list:\n",
    "\n",
    "1. \\\\$5 + 10 CHF = \\\\$10 if rate is 2:1.\n",
    "2. ~~\\\\$5 * 2 = \\\\$10~~.\n",
    "3. ~~make `amount` private~~.\n",
    "4. ~~Dollar side-effects?~~\n",
    "5. Money rounding?\n",
    "6. ~~`equals()`~~.\n",
    "7. Equal null.\n",
    "8. Equal object.\n",
    "9. ~~5 CHF * 2 = 10 CHF~~.\n",
    "10. Dollar/Franc duplication.\n",
    "11. ~~Common equals~~.\n",
    "12. Common times.\n",
    "13. ~~Compare Francs with Dollars~~.\n",
    "14. Currency?"
   ]
  }
 ],
 "metadata": {
  "kernelspec": {
   "display_name": ".venv",
   "language": "python",
   "name": "python3"
  },
  "language_info": {
   "codemirror_mode": {
    "name": "ipython",
    "version": 3
   },
   "file_extension": ".py",
   "mimetype": "text/x-python",
   "name": "python",
   "nbconvert_exporter": "python",
   "pygments_lexer": "ipython3",
   "version": "3.10.12"
  }
 },
 "nbformat": 4,
 "nbformat_minor": 2
}
