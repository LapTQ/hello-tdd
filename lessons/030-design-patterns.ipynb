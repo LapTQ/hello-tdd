{
 "cells": [
  {
   "cell_type": "markdown",
   "metadata": {},
   "source": [
    "The book \"*Design Patterns*\" seems to have a subtle bias toward ***design*** as a phase.\n",
    "\n",
    "It makes no nod toward ***refactoring*** as a design activity.\n",
    "\n",
    "Design in TDD requires a ***slighly different*** look at design patterns."
   ]
  },
  {
   "cell_type": "markdown",
   "metadata": {},
   "source": [
    "![](../assets/design-patterns-in-tdd.png)"
   ]
  },
  {
   "cell_type": "code",
   "execution_count": null,
   "metadata": {},
   "outputs": [],
   "source": []
  }
 ],
 "metadata": {
  "language_info": {
   "name": "python"
  }
 },
 "nbformat": 4,
 "nbformat_minor": 2
}
