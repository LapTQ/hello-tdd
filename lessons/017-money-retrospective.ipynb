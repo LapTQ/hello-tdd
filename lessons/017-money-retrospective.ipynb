{
 "cells": [
  {
   "cell_type": "code",
   "execution_count": null,
   "metadata": {},
   "outputs": [],
   "source": [
    "from abc import ABC, abstractmethod\n",
    "    \n",
    "\n",
    "class Pair:\n",
    "\n",
    "    _from_ = None\n",
    "    _to = None\n",
    "\n",
    "    def __init__(self, from_, to):\n",
    "        self._from_ = from_\n",
    "        self._to = to\n",
    "    \n",
    "    def __eq__(self, object):\n",
    "        return self._from_ == object._from_ and self._to == object._to\n",
    "    \n",
    "    def __hash__(self):\n",
    "        return 0\n",
    "    \n",
    "\n",
    "class Expression(ABC):  # an interface\n",
    "    \n",
    "\n",
    "    @abstractmethod\n",
    "    def reduce(self, bank, to : str): # -> Money\n",
    "        pass\n",
    "\n",
    "\n",
    "    @abstractmethod\n",
    "    def __add__(self, addend): # -> Expression\n",
    "        pass\n",
    "\n",
    "\n",
    "    @abstractmethod\n",
    "    def __mul__(self, multiplier): # -> Expression\n",
    "        pass\n",
    "\n",
    "\n",
    "class Money(Expression):    # implement the interface\n",
    "\n",
    "    _amount = None     # In Java, protected\n",
    "    _currency = None   # In Java, protected\n",
    "\n",
    "\n",
    "    def __init__(self, amount, currency):\n",
    "        self._amount = amount\n",
    "        self._currency = currency\n",
    "    \n",
    "    \n",
    "    def __eq__(self, object):\n",
    "        # In Java, casting to Money first, then:\n",
    "        return self._amount == object._amount and self.currency() == object.currency()\n",
    "\n",
    "\n",
    "    @staticmethod\n",
    "    def dollar(amount): # -> Money\n",
    "        return Money(amount, \"USD\")\n",
    "    \n",
    "\n",
    "    @staticmethod\n",
    "    def franc(amount):  # -> Money\n",
    "        return Money(amount, \"CHF\")\n",
    "    \n",
    "\n",
    "    def __mul__(self, multiplier) -> Expression:\n",
    "        return Money(self._amount * multiplier, self._currency)\n",
    "\n",
    "\n",
    "    def currency(self):\n",
    "        return self._currency\n",
    "    \n",
    "\n",
    "    def __str__(self):\n",
    "        return str(self._amount) + \" \" + self._currency\n",
    "    \n",
    "\n",
    "    def __add__(self, addend: Expression) -> Expression:\n",
    "        return Sum(self, addend)\n",
    "    \n",
    "\n",
    "    def reduce(self, bank, to : str): # -> Money\n",
    "        rate = bank.rate(self._currency, to)\n",
    "        return Money(self._amount / rate, to)\n",
    "    \n",
    "\n",
    "class Sum(Expression):      # implement interface\n",
    "\n",
    "    augend: Expression | None = None\n",
    "    addend: Expression | None = None\n",
    "\n",
    "\n",
    "    def __init__(self, augend: Expression, addend: Expression):\n",
    "        self.augend = augend\n",
    "        self.addend = addend\n",
    "\n",
    "    \n",
    "    def reduce(self, bank, to: str):\n",
    "        amount : int = self.augend.reduce(bank, to)._amount \\\n",
    "            + self.addend.reduce(bank, to)._amount\n",
    "        return Money(amount, to)\n",
    "    \n",
    "\n",
    "    def __add__(self, addend: Expression) -> Expression:\n",
    "        return Sum(self, addend)\n",
    "    \n",
    "\n",
    "    def __mul__(self, multiplier) -> Expression:\n",
    "        return Sum(self.augend * multiplier, self.addend * multiplier)\n",
    "    \n",
    "\n",
    "class Bank:\n",
    "\n",
    "\n",
    "    _rates : dict[Pair, int] = {}\n",
    "\n",
    "\n",
    "    def reduce(self, source: Expression, to: str) -> Money:\n",
    "        return source.reduce(self, to)\n",
    "    \n",
    "\n",
    "    def rate(self, from_: str, to: str) -> int:\n",
    "        if from_ == to:\n",
    "            return 1\n",
    "        return self._rates[Pair(from_, to)]\n",
    "    \n",
    "\n",
    "    def addRate(self, from_: str, to: str, rate: int):\n",
    "        self._rates[Pair(from_, to)] = rate"
   ]
  },
  {
   "cell_type": "markdown",
   "metadata": {},
   "source": [
    "# What's next?"
   ]
  },
  {
   "cell_type": "markdown",
   "metadata": {},
   "source": [
    "Is the code finished? No. There is that nasty duplication between `Sum.plus()` and\n",
    "`Money.plus()`.\n",
    "\n",
    "If we made `Expression` a class instead of an interface, we would have a natural\n",
    "home for the common code."
   ]
  },
  {
   "cell_type": "markdown",
   "metadata": {},
   "source": [
    "# Process"
   ]
  },
  {
   "cell_type": "markdown",
   "metadata": {},
   "source": [
    "Assuming that writing a test is a single step, ***how many changes*** does it take\n",
    "to compile, run, and refactor? (By change, I mean changing a method or class\n",
    "***definition***.)"
   ]
  },
  {
   "cell_type": "markdown",
   "metadata": {},
   "source": [
    "![](../assets/changes-per-refactoring.png)"
   ]
  },
  {
   "cell_type": "markdown",
   "metadata": {},
   "source": [
    "# Test quality"
   ]
  },
  {
   "cell_type": "markdown",
   "metadata": {},
   "source": [
    "Here are a couple of widely shared measurements of the tests:\n",
    "\n",
    "1. ***Statement coverage***: There are several ways to improve coverage. One is to write more tests. Another is to simplifying the logic of the system via refactoring steps.\n",
    "2. ***Defect insertion***: change the meaning of a line of code and a test should break. You can do this manually, or with a tool such as Jester. For example, Jester will report only one line it is able to change without breaking,\n",
    "`Pair.hashCode()`. We faked the implementation to just return 0. Returning a\n",
    "different constant doesn’t actually change the meaning of the program\n",
    "(one fake number is as good as another), so it isn’t really a defect that has\n",
    "been inserted."
   ]
  }
 ],
 "metadata": {
  "language_info": {
   "name": "python"
  }
 },
 "nbformat": 4,
 "nbformat_minor": 2
}
